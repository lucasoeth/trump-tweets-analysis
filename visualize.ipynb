{
 "cells": [
  {
   "cell_type": "markdown",
   "metadata": {},
   "source": [
    "Import"
   ]
  },
  {
   "cell_type": "code",
   "execution_count": 74,
   "metadata": {},
   "outputs": [
    {
     "output_type": "stream",
     "name": "stderr",
     "text": [
      "[nltk_data] Downloading package wordnet to\n[nltk_data]     C:\\Users\\lucas\\AppData\\Roaming\\nltk_data...\n[nltk_data]   Package wordnet is already up-to-date!\n[nltk_data] Downloading package stopwords to\n[nltk_data]     C:\\Users\\lucas\\AppData\\Roaming\\nltk_data...\n[nltk_data]   Package stopwords is already up-to-date!\n"
     ]
    }
   ],
   "source": [
    "import json, string, re\n",
    "from collections import defaultdict\n",
    "from datetime import datetime as dt\n",
    "import numpy as np\n",
    "import pandas as pd\n",
    "import seaborn as sns\n",
    "\n",
    "from collections import defaultdict \n",
    "import nltk\n",
    "import unicodedata\n",
    "\n",
    "nltk.download('wordnet')\n",
    "nltk.download('stopwords')\n",
    "\n",
    "data = json.load(open('data/realdonaldtrump.json', 'r'))"
   ]
  },
  {
   "source": [
    "Prepare Variables"
   ],
   "cell_type": "markdown",
   "metadata": {}
  },
  {
   "cell_type": "code",
   "execution_count": 75,
   "metadata": {
    "tags": []
   },
   "outputs": [
    {
     "output_type": "execute_result",
     "data": {
      "text/plain": [
       "                 created_at  \\\n",
       "0 2018-08-01 21:04:18+00:00   \n",
       "1 2020-03-24 02:44:49+00:00   \n",
       "2 2015-06-16 15:57:23+00:00   \n",
       "3 2018-02-20 13:38:49+00:00   \n",
       "4 2020-09-01 21:59:03+00:00   \n",
       "\n",
       "                                           full_text  retweet_count  \\\n",
       "0  Join me tomorrow night at 7pmE in Wilkes-Barre...           8961   \n",
       "1  ....us since the beginning of this crisis.” Th...          13897   \n",
       "2  I am officially running for President of the U...          10006   \n",
       "3  I have been much tougher on Russia than Obama,...          12569   \n",
       "4  Not even a “minor” one. Thank you! https://t.c...           9529   \n",
       "\n",
       "   favorite_count                   id  \n",
       "0           38653  1024762772733796353  \n",
       "1           68761  1242281185084149762  \n",
       "2           10640   610838591242137600  \n",
       "3           65832   965943827931549696  \n",
       "4           37794  1300916103229526017  "
      ],
      "text/html": "<div>\n<style scoped>\n    .dataframe tbody tr th:only-of-type {\n        vertical-align: middle;\n    }\n\n    .dataframe tbody tr th {\n        vertical-align: top;\n    }\n\n    .dataframe thead th {\n        text-align: right;\n    }\n</style>\n<table border=\"1\" class=\"dataframe\">\n  <thead>\n    <tr style=\"text-align: right;\">\n      <th></th>\n      <th>created_at</th>\n      <th>full_text</th>\n      <th>retweet_count</th>\n      <th>favorite_count</th>\n      <th>id</th>\n    </tr>\n  </thead>\n  <tbody>\n    <tr>\n      <th>0</th>\n      <td>2018-08-01 21:04:18+00:00</td>\n      <td>Join me tomorrow night at 7pmE in Wilkes-Barre...</td>\n      <td>8961</td>\n      <td>38653</td>\n      <td>1024762772733796353</td>\n    </tr>\n    <tr>\n      <th>1</th>\n      <td>2020-03-24 02:44:49+00:00</td>\n      <td>....us since the beginning of this crisis.” Th...</td>\n      <td>13897</td>\n      <td>68761</td>\n      <td>1242281185084149762</td>\n    </tr>\n    <tr>\n      <th>2</th>\n      <td>2015-06-16 15:57:23+00:00</td>\n      <td>I am officially running for President of the U...</td>\n      <td>10006</td>\n      <td>10640</td>\n      <td>610838591242137600</td>\n    </tr>\n    <tr>\n      <th>3</th>\n      <td>2018-02-20 13:38:49+00:00</td>\n      <td>I have been much tougher on Russia than Obama,...</td>\n      <td>12569</td>\n      <td>65832</td>\n      <td>965943827931549696</td>\n    </tr>\n    <tr>\n      <th>4</th>\n      <td>2020-09-01 21:59:03+00:00</td>\n      <td>Not even a “minor” one. Thank you! https://t.c...</td>\n      <td>9529</td>\n      <td>37794</td>\n      <td>1300916103229526017</td>\n    </tr>\n  </tbody>\n</table>\n</div>"
     },
     "metadata": {},
     "execution_count": 75
    }
   ],
   "source": [
    "tweets = []\n",
    "for key, value in data.items():\n",
    "    value['id'] = key\n",
    "    value['created_at'] = dt.strptime(value['created_at'], '%a %b %d %H:%M:%S %z %Y')\n",
    "    tweets.append(value)\n",
    "\n",
    "df = pd.DataFrame(tweets)\n",
    "df.head()"
   ]
  },
  {
   "source": [
    "old functions"
   ],
   "cell_type": "markdown",
   "metadata": {}
  },
  {
   "cell_type": "code",
   "execution_count": 76,
   "metadata": {
    "tags": []
   },
   "outputs": [],
   "source": [
    "def plot_count_by_time():\n",
    "    data = df['created_at'].apply(lambda ts: (ts.hour+24-5)%24)\n",
    "    sns.histplot(data=data)"
   ]
  },
  {
   "source": [
    "current playground"
   ],
   "cell_type": "markdown",
   "metadata": {}
  },
  {
   "cell_type": "code",
   "execution_count": 84,
   "metadata": {
    "tags": []
   },
   "outputs": [
    {
     "output_type": "execute_result",
     "data": {
      "text/plain": [
       "        word count\n",
       "9      great   683\n",
       "53     thank   582\n",
       "242    trump   327\n",
       "98       amp   300\n",
       "8    america   288"
      ],
      "text/html": "<div>\n<style scoped>\n    .dataframe tbody tr th:only-of-type {\n        vertical-align: middle;\n    }\n\n    .dataframe tbody tr th {\n        vertical-align: top;\n    }\n\n    .dataframe thead th {\n        text-align: right;\n    }\n</style>\n<table border=\"1\" class=\"dataframe\">\n  <thead>\n    <tr style=\"text-align: right;\">\n      <th></th>\n      <th>word</th>\n      <th>count</th>\n    </tr>\n  </thead>\n  <tbody>\n    <tr>\n      <th>9</th>\n      <td>great</td>\n      <td>683</td>\n    </tr>\n    <tr>\n      <th>53</th>\n      <td>thank</td>\n      <td>582</td>\n    </tr>\n    <tr>\n      <th>242</th>\n      <td>trump</td>\n      <td>327</td>\n    </tr>\n    <tr>\n      <th>98</th>\n      <td>amp</td>\n      <td>300</td>\n    </tr>\n    <tr>\n      <th>8</th>\n      <td>america</td>\n      <td>288</td>\n    </tr>\n  </tbody>\n</table>\n</div>"
     },
     "metadata": {},
     "execution_count": 84
    }
   ],
   "source": [
    "ADDITIONAL_STOPWORDS = ['amp']\n",
    "\n",
    "def clean(text):\n",
    "  \"\"\"\n",
    "  A simple function to clean up the data. All the words that\n",
    "  are not designated as a stop word is then lemmatized after\n",
    "  encoding and basic regex parsing are performed.\n",
    "  \"\"\"\n",
    "  wnl = nltk.stem.WordNetLemmatizer()\n",
    "  stopwords = nltk.corpus.stopwords.words('english') + ADDITIONAL_STOPWORDS\n",
    "  text = (unicodedata.normalize('NFKD', text)\n",
    "    .encode('ascii', 'ignore')\n",
    "    .decode('utf-8', 'ignore')\n",
    "    .lower())\n",
    "  words = re.sub(r'[^\\w\\s]', '', text).split()\n",
    "  return [wnl.lemmatize(word) for word in words if word not in stopwords]\n",
    "\n",
    "texts = df['full_text'].apply(lambda text: text.lower())\n",
    "# lowercase\n",
    "# remove\n",
    "word_count = defaultdict(lambda: 0)\n",
    "for text in texts:\n",
    "    # # get rid of links and usernames\n",
    "    text = re.sub('http[s]?://(?:[a-zA-Z]|[0-9]|[$-_@.&+#]|[!*\\(\\),]|(?:%[0-9a-fA-F][0-9a-fA-F]))+','', text)\n",
    "    text = re.sub(\"(@[A-Za-z0-9_]+)\",\"\", text)\n",
    "    # match = re.match(\"[A-Za-z_]+\", text)\n",
    "    # print(match)\n",
    "    for word in clean(text):\n",
    "        word_count[word] += 1\n",
    "\n",
    "data = pd.DataFrame(columns=['word', 'count'])\n",
    "for k, v in word_count.items():\n",
    "    data = data.append({'word': k, 'count': v}, ignore_index=True)\n",
    "data.sort_values(by=['count'], ascending=False).head()\n",
    "# print(word_count)"
   ]
  },
  {
   "cell_type": "code",
   "execution_count": null,
   "metadata": {},
   "outputs": [],
   "source": []
  }
 ],
 "metadata": {
  "kernelspec": {
   "name": "python3",
   "display_name": "Python 3.9.0 64-bit",
   "metadata": {
    "interpreter": {
     "hash": "63fd5069d213b44bf678585dea6b12cceca9941eaf7f819626cde1f2670de90d"
    }
   }
  },
  "language_info": {
   "codemirror_mode": {
    "name": "ipython",
    "version": 3
   },
   "file_extension": ".py",
   "mimetype": "text/x-python",
   "name": "python",
   "nbconvert_exporter": "python",
   "pygments_lexer": "ipython3",
   "version": "3.9.0-final"
  }
 },
 "nbformat": 4,
 "nbformat_minor": 4
}