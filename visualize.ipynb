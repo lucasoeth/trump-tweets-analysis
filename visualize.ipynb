{
 "cells": [
  {
   "cell_type": "markdown",
   "metadata": {},
   "source": [
    "Import"
   ]
  },
  {
   "cell_type": "code",
   "execution_count": 17,
   "metadata": {},
   "outputs": [],
   "source": [
    "import json\n",
    "import numpy as np\n",
    "import pandas as pd\n",
    "import seaborn as sb\n",
    "\n",
    "data = json.load(open('data/realdonaldtrump.json', 'r'))"
   ]
  },
  {
   "source": [
    "Prepare Variables"
   ],
   "cell_type": "markdown",
   "metadata": {}
  },
  {
   "cell_type": "code",
   "execution_count": 25,
   "metadata": {
    "tags": []
   },
   "outputs": [
    {
     "output_type": "execute_result",
     "data": {
      "text/plain": [
       "                                           full_text  retweet_count  \\\n",
       "0  Join me tomorrow night at 7pmE in Wilkes-Barre...           8961   \n",
       "1  ....us since the beginning of this crisis.” Th...          13897   \n",
       "2  I am officially running for President of the U...          10006   \n",
       "3  I have been much tougher on Russia than Obama,...          12569   \n",
       "4  Not even a “minor” one. Thank you! https://t.c...           9529   \n",
       "\n",
       "   favorite_count           created_at  \n",
       "0           38653  1024762772733796353  \n",
       "1           68761  1242281185084149762  \n",
       "2           10640   610838591242137600  \n",
       "3           65832   965943827931549696  \n",
       "4           37794  1300916103229526017  "
      ],
      "text/html": "<div>\n<style scoped>\n    .dataframe tbody tr th:only-of-type {\n        vertical-align: middle;\n    }\n\n    .dataframe tbody tr th {\n        vertical-align: top;\n    }\n\n    .dataframe thead th {\n        text-align: right;\n    }\n</style>\n<table border=\"1\" class=\"dataframe\">\n  <thead>\n    <tr style=\"text-align: right;\">\n      <th></th>\n      <th>full_text</th>\n      <th>retweet_count</th>\n      <th>favorite_count</th>\n      <th>created_at</th>\n    </tr>\n  </thead>\n  <tbody>\n    <tr>\n      <th>0</th>\n      <td>Join me tomorrow night at 7pmE in Wilkes-Barre...</td>\n      <td>8961</td>\n      <td>38653</td>\n      <td>1024762772733796353</td>\n    </tr>\n    <tr>\n      <th>1</th>\n      <td>....us since the beginning of this crisis.” Th...</td>\n      <td>13897</td>\n      <td>68761</td>\n      <td>1242281185084149762</td>\n    </tr>\n    <tr>\n      <th>2</th>\n      <td>I am officially running for President of the U...</td>\n      <td>10006</td>\n      <td>10640</td>\n      <td>610838591242137600</td>\n    </tr>\n    <tr>\n      <th>3</th>\n      <td>I have been much tougher on Russia than Obama,...</td>\n      <td>12569</td>\n      <td>65832</td>\n      <td>965943827931549696</td>\n    </tr>\n    <tr>\n      <th>4</th>\n      <td>Not even a “minor” one. Thank you! https://t.c...</td>\n      <td>9529</td>\n      <td>37794</td>\n      <td>1300916103229526017</td>\n    </tr>\n  </tbody>\n</table>\n</div>"
     },
     "metadata": {},
     "execution_count": 25
    }
   ],
   "source": [
    "tweets = []\n",
    "for key, value in data.items():\n",
    "    value['created_at'] = key\n",
    "    tweets.append(value)\n",
    "\n",
    "df = pd.DataFrame(tweets)\n",
    "df.head()"
   ]
  }
 ],
 "metadata": {
  "kernelspec": {
   "display_name": "Python 3",
   "language": "python",
   "name": "python3"
  },
  "language_info": {
   "codemirror_mode": {
    "name": "ipython",
    "version": 3
   },
   "file_extension": ".py",
   "mimetype": "text/x-python",
   "name": "python",
   "nbconvert_exporter": "python",
   "pygments_lexer": "ipython3",
   "version": "3.9.0-final"
  }
 },
 "nbformat": 4,
 "nbformat_minor": 4
}